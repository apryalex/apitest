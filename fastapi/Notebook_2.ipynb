{
 "cells": [
  {
   "cell_type": "code",
   "execution_count": 3,
   "metadata": {},
   "outputs": [],
   "source": [
    "import requests"
   ]
  },
  {
   "cell_type": "markdown",
   "metadata": {},
   "source": [
    "## Test de l'API"
   ]
  },
  {
   "cell_type": "code",
   "execution_count": 5,
   "metadata": {},
   "outputs": [
    {
     "data": {
      "text/plain": [
       "'{\"message\":\"Hello World\"}'"
      ]
     },
     "execution_count": 5,
     "metadata": {},
     "output_type": "execute_result"
    }
   ],
   "source": [
    "response = requests.get('http://127.0.0.1:8000/hello')\n",
    "response.text"
   ]
  },
  {
   "cell_type": "code",
   "execution_count": 7,
   "metadata": {},
   "outputs": [
    {
     "name": "stdout",
     "output_type": "stream",
     "text": [
      "{'prediction': ['No disorder']}\n"
     ]
    }
   ],
   "source": [
    "payload = {\n",
    "    \"Gender\": \"Male\",\n",
    "    \"Age\": 30,\n",
    "    \"Physical_Activity_Level\": 3,\n",
    "    \"Heart_Rate\": 80,\n",
    "    \"Daily_Steps\": 8000,\n",
    "    \"BloodPressure_high\": 120,\n",
    "    \"BloodPressure_low\": 80\n",
    "}\n",
    "\n",
    "response = requests.post(\"http://127.0.0.1:8000/predict\", json=payload)\n",
    "print(response.json())"
   ]
  },
  {
   "cell_type": "code",
   "execution_count": 8,
   "metadata": {},
   "outputs": [
    {
     "name": "stdout",
     "output_type": "stream",
     "text": [
      "{'prediction': ['No disorder']}\n"
     ]
    }
   ],
   "source": [
    "\n",
    "payload2 = {\n",
    "  \"Physical_Activity_Level\": 42,\n",
    "  \"Heart_Rate\": 77,\n",
    "  \"Daily_Steps\": 4200\n",
    "}\n",
    "\n",
    "response = requests.post(\"http://127.0.0.1:8000/predict2\", json=payload2)\n",
    "print(response.json())"
   ]
  },
  {
   "cell_type": "code",
   "execution_count": null,
   "metadata": {},
   "outputs": [],
   "source": []
  }
 ],
 "metadata": {
  "kernelspec": {
   "display_name": "venv_fastapi",
   "language": "python",
   "name": "python3"
  },
  "language_info": {
   "codemirror_mode": {
    "name": "ipython",
    "version": 3
   },
   "file_extension": ".py",
   "mimetype": "text/x-python",
   "name": "python",
   "nbconvert_exporter": "python",
   "pygments_lexer": "ipython3",
   "version": "3.12.1"
  }
 },
 "nbformat": 4,
 "nbformat_minor": 2
}
